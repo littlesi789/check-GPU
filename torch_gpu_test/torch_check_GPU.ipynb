{
 "cells": [
  {
   "cell_type": "code",
   "execution_count": 25,
   "metadata": {
    "tags": []
   },
   "outputs": [
    {
     "name": "stdout",
     "output_type": "stream",
     "text": [
      "----------\n",
      "Python VERSION: 3.10.5 | packaged by conda-forge | (main, Jun 14 2022, 07:04:59) [GCC 10.3.0]\n",
      "PyTorch VERSION: 1.12.0+cu113\n",
      "PyTorch CUDA VERSION: 11.3\n",
      "----------\n",
      "__CUDNN VERSION: 8302\n",
      "__Number CUDA Devices: 2\n",
      "__Devices\n",
      "index, name, driver_version, memory.total [MiB], memory.used [MiB], memory.free [MiB]\n",
      "0, NVIDIA GeForce RTX 3090, 470.57.02, 24265 MiB, 1921 MiB, 22344 MiB\n",
      "1, NVIDIA GeForce RTX 3090, 470.57.02, 24268 MiB, 1815 MiB, 22453 MiB\n",
      "__Devices Properties\n",
      "   _CudaDeviceProperties(name='NVIDIA GeForce RTX 3090', major=8, minor=6, total_memory=24265MB, multi_processor_count=82)\n",
      "   _CudaDeviceProperties(name='NVIDIA GeForce RTX 3090', major=8, minor=6, total_memory=24268MB, multi_processor_count=82)\n",
      "__Current cuda device # 0\n",
      "----------\n"
     ]
    }
   ],
   "source": [
    "import sys\n",
    "import torch\n",
    "import torchvision\n",
    "from subprocess import call\n",
    "print('----------')\n",
    "print('Python VERSION:', sys.version)\n",
    "print('PyTorch VERSION:', torch.__version__)\n",
    "print('PyTorch CUDA VERSION:', torch.version.cuda)\n",
    "print('----------')\n",
    "if torch.cuda.is_available():\n",
    "    \n",
    "    num_cuda_devices = torch.cuda.device_count()\n",
    "    \n",
    "    \n",
    "    print('__CUDNN VERSION:', torch.backends.cudnn.version())\n",
    "    print('__Number CUDA Devices:', torch.cuda.device_count())\n",
    "    print('__Devices')\n",
    "    call([\"nvidia-smi\", \"--format=csv\", \"--query-gpu=index,name,driver_version,memory.total,memory.used,memory.free\"])\n",
    "    print('__Devices Properties')\n",
    "    for i in range(num_cuda_devices):\n",
    "        print('  ', torch.cuda.get_device_properties('cuda:{}'.format(i)))\n",
    "    \n",
    "    \n",
    "    \n",
    "    print('__Current cuda device #', torch.cuda.current_device())\n",
    "    \n",
    "else:\n",
    "    print('CUDA is not available')\n",
    "print('----------')"
   ]
  }
 ],
 "metadata": {
  "kernelspec": {
   "display_name": "Python [conda env:har_torch2]",
   "language": "python",
   "name": "conda-env-har_torch2-py"
  },
  "language_info": {
   "codemirror_mode": {
    "name": "ipython",
    "version": 3
   },
   "file_extension": ".py",
   "mimetype": "text/x-python",
   "name": "python",
   "nbconvert_exporter": "python",
   "pygments_lexer": "ipython3",
   "version": "3.10.5"
  }
 },
 "nbformat": 4,
 "nbformat_minor": 4
}
